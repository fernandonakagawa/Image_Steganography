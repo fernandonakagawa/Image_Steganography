{
  "nbformat": 4,
  "nbformat_minor": 0,
  "metadata": {
    "colab": {
      "name": "ImageSteganography.ipynb",
      "provenance": []
    },
    "kernelspec": {
      "name": "python3",
      "display_name": "Python 3"
    }
  },
  "cells": [
    {
      "cell_type": "markdown",
      "metadata": {
        "id": "Mk_DBkMc_Wi6"
      },
      "source": [
        "Esteganografia"
      ]
    },
    {
      "cell_type": "code",
      "metadata": {
        "id": "jdzh8haer-1p"
      },
      "source": [
        "from google.colab import drive\n",
        "drive.mount('/content/drive')"
      ],
      "execution_count": null,
      "outputs": []
    },
    {
      "cell_type": "code",
      "metadata": {
        "id": "KOsGDJ4JQoTN"
      },
      "source": [
        "\n",
        "import cv2\n",
        "import numpy as np\n",
        "import types\n",
        "from google.colab.patches import cv2_imshow "
      ],
      "execution_count": 12,
      "outputs": []
    },
    {
      "cell_type": "code",
      "metadata": {
        "id": "5Ii0mWH7RCz9"
      },
      "source": [
        "def mensagemParaBinario(mensagem):\n",
        "  if type(mensagem) == str:\n",
        "    return ''.join([ format(ord(i), \"08b\") for i in mensagem ])\n",
        "  elif type(mensagem) == bytes or type(mensagem) == np.ndarray:\n",
        "    return [ format(i, \"08b\") for i in mensagem ]\n",
        "  elif type(mensagem) == int or type(mensagem) == np.uint8:\n",
        "    return format(mensagem, \"08b\")\n",
        "  else:\n",
        "    raise TypeError(\"Entrada não suportada\")"
      ],
      "execution_count": 13,
      "outputs": []
    },
    {
      "cell_type": "code",
      "metadata": {
        "id": "ERmEwD-CSMM_"
      },
      "source": [
        "# Function to hide the secret mensagem into the imagem\n",
        "\n",
        "def esconderTexto(imagem, mensagem_secreta):\n",
        "\n",
        "  # calcular o Tamanho em bytes máximo para codificar\n",
        "  n_bytes = imagem.shape[0] * imagem.shape[1] * 3 // 8\n",
        "  print(\"Tamanho em bytes máximo para codificar:\", n_bytes)\n",
        "\n",
        "  #Verifica se o número de bytes para codificar é menor que o tamanho máximo em bytes da imagem\n",
        "  if len(mensagem_secreta) > n_bytes:\n",
        "      raise ValueError(\"Erro! Bytes insuficientes! Tente utilizar uma imagem maior ou uma mensagem menor !!\")\n",
        "  \n",
        "  mensagem_secreta += \"#####\" # qualquer string pode ser delimitador\n",
        "\n",
        "  data_index = 0\n",
        "\n",
        "  # converte os dados de entrada para binário\n",
        "  binario_mensagem_secreta = mensagemParaBinario(mensagem_secreta)\n",
        "\n",
        "  data_len = len(binario_mensagem_secreta) # obtém o tamanho dos dados a serem escondidos\n",
        "  for values in imagem:\n",
        "      for pixel in values:\n",
        "          # converte os valores RGB para o formato binário\n",
        "          r, g, b = mensagemParaBinario(pixel)\n",
        "          # modifica o bit menos significante apenas se há dados para armazenar\n",
        "          if data_index < data_len:\n",
        "              # esconde o dado dentro do bit menos significante do pixel vermelho\n",
        "              pixel[0] = int(r[:-1] + binario_mensagem_secreta[data_index], 2)\n",
        "              data_index += 1\n",
        "          if data_index < data_len:\n",
        "              # esconde o dado dentro do bit menos significante do pixel verde\n",
        "              pixel[1] = int(g[:-1] + binario_mensagem_secreta[data_index], 2)\n",
        "              data_index += 1\n",
        "          if data_index < data_len:\n",
        "              # esconde o dado dentro do bit menos significante do pixel azul\n",
        "              pixel[2] = int(b[:-1] + binario_mensagem_secreta[data_index], 2)\n",
        "              data_index += 1\n",
        "          # se os dados forem codificados, quebrar o loop\n",
        "          if data_index >= data_len:\n",
        "              break\n",
        "\n",
        "  return imagem"
      ],
      "execution_count": 14,
      "outputs": []
    },
    {
      "cell_type": "code",
      "metadata": {
        "id": "n4xLTJtoVUt5"
      },
      "source": [
        "def obterTexto(imagem):\n",
        "\n",
        "  dados_binarios = \"\"\n",
        "  for valores in imagem:\n",
        "      for pixel in valores:\n",
        "          r, g, b = mensagemParaBinario(pixel) #converte os valores de vermelho, verde e azul para o formato binário\n",
        "          dados_binarios += r[-1] #extraindo dados do bit menos significante do pixel vermelho\n",
        "          dados_binarios += g[-1] #extraindo dados do bit menos significante do pixel verde\n",
        "          dados_binarios += b[-1] #extraindo dados do bit menos significante do pixel azul\n",
        "  # split by 8-bits\n",
        "  todos_os_bytes = [ dados_binarios[i: i+8] for i in range(0, len(dados_binarios), 8) ]\n",
        "  # convert from bits to characters\n",
        "  dados_decodificados = \"\"\n",
        "  for byte in todos_os_bytes:\n",
        "      dados_decodificados += chr(int(byte, 2))\n",
        "      if dados_decodificados[-5:] == \"#####\": #check if we have reached the delimeter which is \"#####\"\n",
        "          break\n",
        "  #print(dados_decodificados)\n",
        "  return dados_decodificados[:-5] #remove the delimeter to show the original hidden mensagem"
      ],
      "execution_count": 15,
      "outputs": []
    },
    {
      "cell_type": "code",
      "metadata": {
        "id": "QHJKCXwFz8fk"
      },
      "source": [
        "# esconder texto dentro da imagem\n",
        "def codificar_texto(): \n",
        "  imagem_nome = input(\"Digite o nome da imagem(com a extensão): \") \n",
        "  imagem = cv2.imread(imagem_nome) # Ler a imagem usando OpenCV-Python.\n",
        "  #Biblioteca para resolver problemas de visão computacional em Python. \n",
        "  \n",
        "  #detalhes da imagem\n",
        "  print(\"A forma da imagem é de: \",imagem.shape) #verificar a forma da imagem para calcular o número de bytes\n",
        "  print(\"Imagem original: \")\n",
        "  imagem_novo_tamanho = cv2.resize(imagem, (500, 500)) #mudar o tamanho da imagem\n",
        "  cv2_imshow(imagem_novo_tamanho) #mostrar a imagem\n",
        "  \n",
        "      \n",
        "  data = input(\"Digite o texto a codificar: \") \n",
        "  if (len(data) == 0): \n",
        "    raise ValueError('Dados vazios')\n",
        "  \n",
        "  filename = input(\"Digite o nome da nova imagem(with extension): \")\n",
        "  imagem_codificada = esconderTexto(imagem, data) # chamar a função que irá esconder os dados dentro da imagem\n",
        "  cv2.imwrite(filename, imagem_codificada)\n",
        "\n",
        " \n",
        "    "
      ],
      "execution_count": 16,
      "outputs": []
    },
    {
      "cell_type": "code",
      "metadata": {
        "id": "SAokL_YC2JB8"
      },
      "source": [
        "# decodificar o texto da imagem\n",
        "def decodificar_texto():\n",
        "  # read the imagem that contains the hidden imagem\n",
        "  imagem_name = input(\"Digite o nome da imagem a decodificar (com extensão) :\") \n",
        "  imagem = cv2.imread(imagem_name) #read the imagem using cv2.imread() \n",
        "\n",
        "  print(\"A imagem esteganografada ficou assim: \")\n",
        "  resized_imagem = cv2.resize(imagem, (500, 500))  #mudar o tamanho da imagem\n",
        "  cv2_imshow(resized_imagem) #mostrar imagem\n",
        "    \n",
        "  texto = obterTexto(imagem)\n",
        "  return texto"
      ],
      "execution_count": 17,
      "outputs": []
    },
    {
      "cell_type": "code",
      "metadata": {
        "id": "CFpQomYuyHdT",
        "colab": {
          "base_uri": "https://localhost:8080/",
          "height": 459
        },
        "outputId": "f383ce35-a6bb-425d-8688-c6cdb0dbd985"
      },
      "source": [
        "# Esteganografia         \n",
        "def Esteganografia(): \n",
        "    a = input(\"Estenografia de Imagem \\n 1. codificar texto \\n 2. decodificar texto \\n Escolha opção 1 ou 2: \")\n",
        "    userinput = int(a)\n",
        "    if (userinput == 1):\n",
        "      print(\"\\nCodificando....\")\n",
        "      codificar_texto() \n",
        "          \n",
        "    elif (userinput == 2):\n",
        "      print(\"\\nDecodificando....\") \n",
        "      print(\"A mensagem decodificada é: \" + decodificar_texto()) \n",
        "    else: \n",
        "        raise Exception(\"Insira o valor correto.\") \n",
        "          \n",
        "Esteganografia() #codificar imagem"
      ],
      "execution_count": 18,
      "outputs": [
        {
          "output_type": "stream",
          "text": [
            "Estenografia de Imagem \n",
            " 1. codificar texto \n",
            " 2. decodificar texto \n",
            " Escolha opção 1 ou 2: 1\n",
            "\n",
            "Codificando....\n",
            "Digite o nome da imagem(com a extensão): test_1.png\n"
          ],
          "name": "stdout"
        },
        {
          "output_type": "error",
          "ename": "AttributeError",
          "evalue": "ignored",
          "traceback": [
            "\u001b[0;31m---------------------------------------------------------------------------\u001b[0m",
            "\u001b[0;31mAttributeError\u001b[0m                            Traceback (most recent call last)",
            "\u001b[0;32m<ipython-input-18-9b090fe28e3f>\u001b[0m in \u001b[0;36m<module>\u001b[0;34m()\u001b[0m\n\u001b[1;32m     13\u001b[0m         \u001b[0;32mraise\u001b[0m \u001b[0mException\u001b[0m\u001b[0;34m(\u001b[0m\u001b[0;34m\"Insira o valor correto.\"\u001b[0m\u001b[0;34m)\u001b[0m\u001b[0;34m\u001b[0m\u001b[0;34m\u001b[0m\u001b[0m\n\u001b[1;32m     14\u001b[0m \u001b[0;34m\u001b[0m\u001b[0m\n\u001b[0;32m---> 15\u001b[0;31m \u001b[0mEsteganografia\u001b[0m\u001b[0;34m(\u001b[0m\u001b[0;34m)\u001b[0m \u001b[0;31m#codificar imagem\u001b[0m\u001b[0;34m\u001b[0m\u001b[0;34m\u001b[0m\u001b[0m\n\u001b[0m",
            "\u001b[0;32m<ipython-input-18-9b090fe28e3f>\u001b[0m in \u001b[0;36mEsteganografia\u001b[0;34m()\u001b[0m\n\u001b[1;32m      5\u001b[0m     \u001b[0;32mif\u001b[0m \u001b[0;34m(\u001b[0m\u001b[0muserinput\u001b[0m \u001b[0;34m==\u001b[0m \u001b[0;36m1\u001b[0m\u001b[0;34m)\u001b[0m\u001b[0;34m:\u001b[0m\u001b[0;34m\u001b[0m\u001b[0;34m\u001b[0m\u001b[0m\n\u001b[1;32m      6\u001b[0m       \u001b[0mprint\u001b[0m\u001b[0;34m(\u001b[0m\u001b[0;34m\"\\nCodificando....\"\u001b[0m\u001b[0;34m)\u001b[0m\u001b[0;34m\u001b[0m\u001b[0;34m\u001b[0m\u001b[0m\n\u001b[0;32m----> 7\u001b[0;31m       \u001b[0mcodificar_texto\u001b[0m\u001b[0;34m(\u001b[0m\u001b[0;34m)\u001b[0m\u001b[0;34m\u001b[0m\u001b[0;34m\u001b[0m\u001b[0m\n\u001b[0m\u001b[1;32m      8\u001b[0m \u001b[0;34m\u001b[0m\u001b[0m\n\u001b[1;32m      9\u001b[0m     \u001b[0;32melif\u001b[0m \u001b[0;34m(\u001b[0m\u001b[0muserinput\u001b[0m \u001b[0;34m==\u001b[0m \u001b[0;36m2\u001b[0m\u001b[0;34m)\u001b[0m\u001b[0;34m:\u001b[0m\u001b[0;34m\u001b[0m\u001b[0;34m\u001b[0m\u001b[0m\n",
            "\u001b[0;32m<ipython-input-16-858fb3ce5812>\u001b[0m in \u001b[0;36mcodificar_texto\u001b[0;34m()\u001b[0m\n\u001b[1;32m      6\u001b[0m \u001b[0;34m\u001b[0m\u001b[0m\n\u001b[1;32m      7\u001b[0m   \u001b[0;31m#detalhes da imagem\u001b[0m\u001b[0;34m\u001b[0m\u001b[0;34m\u001b[0m\u001b[0;34m\u001b[0m\u001b[0m\n\u001b[0;32m----> 8\u001b[0;31m   \u001b[0mprint\u001b[0m\u001b[0;34m(\u001b[0m\u001b[0;34m\"A forma da imagem é de: \"\u001b[0m\u001b[0;34m,\u001b[0m\u001b[0mimagem\u001b[0m\u001b[0;34m.\u001b[0m\u001b[0mshape\u001b[0m\u001b[0;34m)\u001b[0m \u001b[0;31m#verificar a forma da imagem para calcular o número de bytes\u001b[0m\u001b[0;34m\u001b[0m\u001b[0;34m\u001b[0m\u001b[0m\n\u001b[0m\u001b[1;32m      9\u001b[0m   \u001b[0mprint\u001b[0m\u001b[0;34m(\u001b[0m\u001b[0;34m\"Imagem original: \"\u001b[0m\u001b[0;34m)\u001b[0m\u001b[0;34m\u001b[0m\u001b[0;34m\u001b[0m\u001b[0m\n\u001b[1;32m     10\u001b[0m   \u001b[0mimagem_novo_tamanho\u001b[0m \u001b[0;34m=\u001b[0m \u001b[0mcv2\u001b[0m\u001b[0;34m.\u001b[0m\u001b[0mresize\u001b[0m\u001b[0;34m(\u001b[0m\u001b[0mimagem\u001b[0m\u001b[0;34m,\u001b[0m \u001b[0;34m(\u001b[0m\u001b[0;36m500\u001b[0m\u001b[0;34m,\u001b[0m \u001b[0;36m500\u001b[0m\u001b[0;34m)\u001b[0m\u001b[0;34m)\u001b[0m \u001b[0;31m#mudar o tamanho da imagem\u001b[0m\u001b[0;34m\u001b[0m\u001b[0;34m\u001b[0m\u001b[0m\n",
            "\u001b[0;31mAttributeError\u001b[0m: 'NoneType' object has no attribute 'shape'"
          ]
        }
      ]
    },
    {
      "cell_type": "code",
      "metadata": {
        "id": "9QxqwwHccrzJ",
        "colab": {
          "base_uri": "https://localhost:8080/",
          "height": 442
        },
        "outputId": "896924bb-bb1a-4625-f2c6-22aa82c7de6f"
      },
      "source": [
        "Esteganografia() #decodificar image"
      ],
      "execution_count": 19,
      "outputs": [
        {
          "output_type": "stream",
          "text": [
            "Estenografia de Imagem \n",
            " 1. codificar texto \n",
            " 2. decodificar texto \n",
            " Escolha opção 1 ou 2: 2\n",
            "\n",
            "Decodificando....\n",
            "Digite o nome da imagem a decodificar (com extensão) :test_1.png\n",
            "A imagem esteganografada ficou assim: \n"
          ],
          "name": "stdout"
        },
        {
          "output_type": "error",
          "ename": "error",
          "evalue": "ignored",
          "traceback": [
            "\u001b[0;31m---------------------------------------------------------------------------\u001b[0m",
            "\u001b[0;31merror\u001b[0m                                     Traceback (most recent call last)",
            "\u001b[0;32m<ipython-input-19-710f2b84b776>\u001b[0m in \u001b[0;36m<module>\u001b[0;34m()\u001b[0m\n\u001b[0;32m----> 1\u001b[0;31m \u001b[0mEsteganografia\u001b[0m\u001b[0;34m(\u001b[0m\u001b[0;34m)\u001b[0m \u001b[0;31m#decodificar image\u001b[0m\u001b[0;34m\u001b[0m\u001b[0;34m\u001b[0m\u001b[0m\n\u001b[0m",
            "\u001b[0;32m<ipython-input-18-9b090fe28e3f>\u001b[0m in \u001b[0;36mEsteganografia\u001b[0;34m()\u001b[0m\n\u001b[1;32m      9\u001b[0m     \u001b[0;32melif\u001b[0m \u001b[0;34m(\u001b[0m\u001b[0muserinput\u001b[0m \u001b[0;34m==\u001b[0m \u001b[0;36m2\u001b[0m\u001b[0;34m)\u001b[0m\u001b[0;34m:\u001b[0m\u001b[0;34m\u001b[0m\u001b[0;34m\u001b[0m\u001b[0m\n\u001b[1;32m     10\u001b[0m       \u001b[0mprint\u001b[0m\u001b[0;34m(\u001b[0m\u001b[0;34m\"\\nDecodificando....\"\u001b[0m\u001b[0;34m)\u001b[0m\u001b[0;34m\u001b[0m\u001b[0;34m\u001b[0m\u001b[0m\n\u001b[0;32m---> 11\u001b[0;31m       \u001b[0mprint\u001b[0m\u001b[0;34m(\u001b[0m\u001b[0;34m\"A mensagem decodificada é: \"\u001b[0m \u001b[0;34m+\u001b[0m \u001b[0mdecodificar_texto\u001b[0m\u001b[0;34m(\u001b[0m\u001b[0;34m)\u001b[0m\u001b[0;34m)\u001b[0m\u001b[0;34m\u001b[0m\u001b[0;34m\u001b[0m\u001b[0m\n\u001b[0m\u001b[1;32m     12\u001b[0m     \u001b[0;32melse\u001b[0m\u001b[0;34m:\u001b[0m\u001b[0;34m\u001b[0m\u001b[0;34m\u001b[0m\u001b[0m\n\u001b[1;32m     13\u001b[0m         \u001b[0;32mraise\u001b[0m \u001b[0mException\u001b[0m\u001b[0;34m(\u001b[0m\u001b[0;34m\"Insira o valor correto.\"\u001b[0m\u001b[0;34m)\u001b[0m\u001b[0;34m\u001b[0m\u001b[0;34m\u001b[0m\u001b[0m\n",
            "\u001b[0;32m<ipython-input-17-f0031e25b12a>\u001b[0m in \u001b[0;36mdecodificar_texto\u001b[0;34m()\u001b[0m\n\u001b[1;32m      6\u001b[0m \u001b[0;34m\u001b[0m\u001b[0m\n\u001b[1;32m      7\u001b[0m   \u001b[0mprint\u001b[0m\u001b[0;34m(\u001b[0m\u001b[0;34m\"A imagem esteganografada ficou assim: \"\u001b[0m\u001b[0;34m)\u001b[0m\u001b[0;34m\u001b[0m\u001b[0;34m\u001b[0m\u001b[0m\n\u001b[0;32m----> 8\u001b[0;31m   \u001b[0mresized_imagem\u001b[0m \u001b[0;34m=\u001b[0m \u001b[0mcv2\u001b[0m\u001b[0;34m.\u001b[0m\u001b[0mresize\u001b[0m\u001b[0;34m(\u001b[0m\u001b[0mimagem\u001b[0m\u001b[0;34m,\u001b[0m \u001b[0;34m(\u001b[0m\u001b[0;36m500\u001b[0m\u001b[0;34m,\u001b[0m \u001b[0;36m500\u001b[0m\u001b[0;34m)\u001b[0m\u001b[0;34m)\u001b[0m  \u001b[0;31m#mudar o tamanho da imagem\u001b[0m\u001b[0;34m\u001b[0m\u001b[0;34m\u001b[0m\u001b[0m\n\u001b[0m\u001b[1;32m      9\u001b[0m   \u001b[0mcv2_imshow\u001b[0m\u001b[0;34m(\u001b[0m\u001b[0mresized_imagem\u001b[0m\u001b[0;34m)\u001b[0m \u001b[0;31m#mostrar imagem\u001b[0m\u001b[0;34m\u001b[0m\u001b[0;34m\u001b[0m\u001b[0m\n\u001b[1;32m     10\u001b[0m \u001b[0;34m\u001b[0m\u001b[0m\n",
            "\u001b[0;31merror\u001b[0m: OpenCV(4.1.2) /io/opencv/modules/imgproc/src/resize.cpp:3720: error: (-215:Assertion failed) !ssize.empty() in function 'resize'\n"
          ]
        }
      ]
    },
    {
      "cell_type": "code",
      "metadata": {
        "id": "Kk0iVOah79Vr"
      },
      "source": [
        ""
      ],
      "execution_count": null,
      "outputs": []
    }
  ]
}